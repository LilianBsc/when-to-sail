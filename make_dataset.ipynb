{
 "cells": [
  {
   "cell_type": "markdown",
   "metadata": {},
   "source": [
    "# Construire le dataset des marees "
   ]
  },
  {
   "cell_type": "markdown",
   "metadata": {},
   "source": [
    "Ce dataset regroupe pour chaque jour de l'année, pour un port donnée les horraires, tailles et coefficients des marées sur l'année 2025 (ou le plus loin possible)."
   ]
  },
  {
   "cell_type": "code",
   "execution_count": null,
   "metadata": {},
   "outputs": [],
   "source": [
    "import pandas as pd"
   ]
  },
  {
   "cell_type": "code",
   "execution_count": null,
   "metadata": {},
   "outputs": [],
   "source": [
    "data_dir = \"/home/hke/Desktop/projects/boat/when-to-sail/data/\"\n",
    "df_coefs = pd.read_csv(data_dir + \"coefs2025.csv\")\n",
    "df_marees = pd.read_csv(data_dir + \"marees-tailles-horraires-2025.csv\")"
   ]
  },
  {
   "cell_type": "code",
   "execution_count": null,
   "metadata": {},
   "outputs": [],
   "source": [
    "print(df_coefs)\n",
    "print(df_marees)"
   ]
  },
  {
   "cell_type": "code",
   "execution_count": null,
   "metadata": {},
   "outputs": [],
   "source": [
    "df_coefs[\"datetime\"] = pd.to_datetime(df_coefs[\"datetime\"])\n",
    "df_marees[\"datetime\"] = pd.to_datetime(df_marees[\"datetime\"])"
   ]
  },
  {
   "cell_type": "code",
   "execution_count": null,
   "metadata": {},
   "outputs": [],
   "source": [
    "merged_df = pd.merge(df_coefs, df_marees, on=\"datetime\", suffixes=(\"_df_coefs\", \"_df_marees\"), how=\"outer\")\n",
    "merged_df.drop(columns=[\"date_df_marees\"], inplace=True)\n",
    "merged_df.drop(columns=[\"date_df_coefs\"], inplace=True)\n",
    "merged_df = merged_df.loc[:, ~merged_df.columns.str.contains('^Unnamed', case=False)]\n",
    "merged_df = merged_df[merged_df['datetime'].dt.year == 2025]\n",
    "import locale\n",
    "locale.setlocale(locale.LC_TIME, 'fr_FR.UTF-8')  # Ajuster la locale au français\n",
    "merged_df['date'] = merged_df['datetime'].dt.strftime('%A %-d %B %Y')\n",
    "merged_df = merged_df.applymap(lambda x: \"[None, None]\" if pd.isna(x) else x)\n",
    "merged_df"
   ]
  },
  {
   "cell_type": "code",
   "execution_count": null,
   "metadata": {},
   "outputs": [],
   "source": [
    "merged_df.to_csv(data_dir + \"marees-2025.csv\")"
   ]
  }
 ],
 "metadata": {
  "kernelspec": {
   "display_name": ".venv",
   "language": "python",
   "name": "python3"
  },
  "language_info": {
   "codemirror_mode": {
    "name": "ipython",
    "version": 3
   },
   "file_extension": ".py",
   "mimetype": "text/x-python",
   "name": "python",
   "nbconvert_exporter": "python",
   "pygments_lexer": "ipython3",
   "version": "3.12.3"
  }
 },
 "nbformat": 4,
 "nbformat_minor": 2
}
