{
 "cells": [
  {
   "cell_type": "markdown",
   "metadata": {},
   "source": [
    "# When to sail"
   ]
  },
  {
   "cell_type": "markdown",
   "metadata": {},
   "source": [
    "Project description"
   ]
  },
  {
   "cell_type": "code",
   "execution_count": null,
   "metadata": {},
   "outputs": [],
   "source": [
    "from bs4 import BeautifulSoup\n",
    "import pandas as pd\n",
    "from datetime import datetime"
   ]
  },
  {
   "cell_type": "markdown",
   "metadata": {},
   "source": [
    "## Get data from website maree.info"
   ]
  },
  {
   "cell_type": "markdown",
   "metadata": {},
   "source": [
    "Run the bash script"
   ]
  },
  {
   "cell_type": "markdown",
   "metadata": {},
   "source": [
    "### Parse HTML"
   ]
  },
  {
   "cell_type": "markdown",
   "metadata": {},
   "source": [
    "Get and prepare data"
   ]
  },
  {
   "cell_type": "code",
   "execution_count": null,
   "metadata": {},
   "outputs": [],
   "source": [
    "import locale\n",
    "locale.setlocale(locale.LC_TIME, 'fr_FR.UTF-8')\n",
    "\n",
    "data = []\n",
    "\n",
    "data_dir = \"/home/hke/Desktop/projects/boat/when-to-sail/data/\"\n",
    "files = [\"01-04-2025.html\", \"05-08-2025.html\", \"09-11-2025.html\"]\n",
    "for file_name in files:\n",
    "    file_path = data_dir + file_name\n",
    "    with open(file_path) as fp:\n",
    "        soup = BeautifulSoup(fp, 'html.parser')\n",
    "\n",
    "    for dw in soup.find_all(\"td\", {\"class\": \"DW\"}):\n",
    "        parent = dw.parent\n",
    "        coefs = parent.find_all(\"td\", {\"class\": \"Coef\"})\n",
    "        coef_pm1 = int(coefs[0].contents[0])\n",
    "        if len(coefs) == 2:\n",
    "            coef_pm2 = int(coefs[1].contents[0])\n",
    "        else:\n",
    "            coef_pm2 = None\n",
    "        date = dw[\"title\"]\n",
    "        datetime = datetime.strptime(dw[\"title\"].split(' ', 1)[1], '%d %B %Y')\n",
    "        row = {\n",
    "            \"date\": date,\n",
    "            \"datetime\": datetime,\n",
    "            \"coefs\": [coef_pm1, coef_pm2]\n",
    "            }\n",
    "        data.append(row)"
   ]
  },
  {
   "cell_type": "code",
   "execution_count": null,
   "metadata": {},
   "outputs": [],
   "source": [
    "df = pd.DataFrame(data)\n",
    "df"
   ]
  },
  {
   "cell_type": "markdown",
   "metadata": {},
   "source": [
    "### Saving data"
   ]
  },
  {
   "cell_type": "code",
   "execution_count": null,
   "metadata": {},
   "outputs": [],
   "source": [
    "df.to_csv(\"/home/hke/Desktop/projects/boat/when-to-sail/data/coefs2025.csv\")"
   ]
  }
 ],
 "metadata": {
  "kernelspec": {
   "display_name": ".venv",
   "language": "python",
   "name": "python3"
  },
  "language_info": {
   "codemirror_mode": {
    "name": "ipython",
    "version": 3
   },
   "file_extension": ".py",
   "mimetype": "text/x-python",
   "name": "python",
   "nbconvert_exporter": "python",
   "pygments_lexer": "ipython3",
   "version": "3.12.3"
  }
 },
 "nbformat": 4,
 "nbformat_minor": 2
}
