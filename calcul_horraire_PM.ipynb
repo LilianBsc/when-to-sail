{
 "cells": [
  {
   "cell_type": "markdown",
   "metadata": {},
   "source": [
    "# Calcul des horraires de PM"
   ]
  },
  {
   "cell_type": "markdown",
   "metadata": {},
   "source": [
    "Description"
   ]
  },
  {
   "cell_type": "code",
   "execution_count": null,
   "metadata": {},
   "outputs": [],
   "source": [
    "from bs4 import BeautifulSoup\n",
    "import pandas as pd\n",
    "from datetime import datetime"
   ]
  },
  {
   "cell_type": "markdown",
   "metadata": {},
   "source": [
    "## Get data from website www.cabaigne.net"
   ]
  },
  {
   "cell_type": "markdown",
   "metadata": {},
   "source": [
    "Run the bash script"
   ]
  },
  {
   "cell_type": "markdown",
   "metadata": {},
   "source": [
    "### Get and prepare data"
   ]
  },
  {
   "cell_type": "code",
   "execution_count": null,
   "metadata": {},
   "outputs": [],
   "source": [
    "data_dir = \"/home/hke/Desktop/projects/boat/when-to-sail/data/\"\n",
    "\n",
    "file_path = data_dir + \"horraires-pm-2025.html\"\n",
    "with open(file_path) as fp:\n",
    "    soup = BeautifulSoup(fp, 'html.parser')"
   ]
  },
  {
   "cell_type": "code",
   "execution_count": null,
   "metadata": {},
   "outputs": [],
   "source": [
    "import re\n",
    "\n",
    "data = []\n",
    "\n",
    "pattern = r\"(marée basse|marée haute)(\\d{2}:\\d{2})([\\d.]+m)\"\n",
    "for el in soup.find_all(\"table\", {\"class\": \"table table-bordered\"}):\n",
    "    date = el.parent.h3.text\n",
    "    row = {\n",
    "        \"date\": date,\n",
    "        \"h PM\": [],\n",
    "        \"h BM\": [],\n",
    "        \"hde PM\": [],\n",
    "        \"hde BM\": [],\n",
    "        }\n",
    "    for child in el.tbody.children:\n",
    "        # Effectuer la correspondance\n",
    "        match = re.match(pattern, child.text)\n",
    "\n",
    "        # Vérifier si la correspondance a réussi\n",
    "        if match:\n",
    "            maree = match.group(1)\n",
    "            heure = match.group(2)\n",
    "            hauteur = match.group(3)\n",
    "            if maree == \"marée basse\":\n",
    "                row[\"h BM\"].append(heure)\n",
    "                row[\"hde BM\"].append(hauteur)\n",
    "            if maree == \"marée haute\":\n",
    "                row[\"h PM\"].append(heure)\n",
    "                row[\"hde PM\"].append(hauteur)\n",
    "    data.append(row)"
   ]
  },
  {
   "cell_type": "code",
   "execution_count": null,
   "metadata": {},
   "outputs": [],
   "source": [
    "import locale\n",
    "locale.setlocale(locale.LC_TIME, 'fr_FR.UTF-8')\n",
    "\n",
    "df = pd.DataFrame(data)\n",
    "df[\"datetime\"] = df[\"date\"].apply(lambda x: datetime.strptime(x, \"%A %d %B %Y\"))\n",
    "df"
   ]
  },
  {
   "cell_type": "code",
   "execution_count": null,
   "metadata": {},
   "outputs": [],
   "source": [
    "df.to_csv(data_dir + \"marees-tailles-horraires-2025.csv\")"
   ]
  }
 ],
 "metadata": {
  "kernelspec": {
   "display_name": ".venv",
   "language": "python",
   "name": "python3"
  },
  "language_info": {
   "codemirror_mode": {
    "name": "ipython",
    "version": 3
   },
   "file_extension": ".py",
   "mimetype": "text/x-python",
   "name": "python",
   "nbconvert_exporter": "python",
   "pygments_lexer": "ipython3",
   "version": "3.12.3"
  }
 },
 "nbformat": 4,
 "nbformat_minor": 2
}
